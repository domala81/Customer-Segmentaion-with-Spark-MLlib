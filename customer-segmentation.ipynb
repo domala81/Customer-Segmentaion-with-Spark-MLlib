{
 "cells": [
  {
   "cell_type": "markdown",
   "metadata": {},
   "source": [
    "# Customer Segmentation of Lisbon Hotels Dataset"
   ]
  },
  {
   "cell_type": "markdown",
   "metadata": {},
   "source": [
    "### Importing libraries"
   ]
  },
  {
   "cell_type": "code",
   "execution_count": 2,
   "metadata": {},
   "outputs": [],
   "source": [
    "import pandas as pd\n",
    "import numpy as np\n",
    "import matplotlib.pyplot as plt\n",
    "import seaborn as sns\n",
    "import plotly.express as px\n",
    "\n",
    "%matplotlib inline"
   ]
  },
  {
   "cell_type": "code",
   "execution_count": 19,
   "metadata": {},
   "outputs": [],
   "source": [
    "import pyspark\n",
    "from pyspark.sql import SparkSession\n",
    "from pyspark.sql.functions import col, countDistinct, count, when\n",
    "from pyspark.sql.types import StructType, StructField, StringType, IntegerType, FloatType"
   ]
  },
  {
   "cell_type": "markdown",
   "metadata": {},
   "source": [
    "### Initializing spark session & importing dataset"
   ]
  },
  {
   "cell_type": "markdown",
   "metadata": {},
   "source": [
    "**Task** : Define a schema with proper types as infer schema is not having proper datatypes"
   ]
  },
  {
   "cell_type": "code",
   "execution_count": 4,
   "metadata": {},
   "outputs": [
    {
     "name": "stderr",
     "output_type": "stream",
     "text": [
      "Setting default log level to \"WARN\".\n",
      "To adjust logging level use sc.setLogLevel(newLevel). For SparkR, use setLogLevel(newLevel).\n",
      "24/04/19 15:01:48 WARN NativeCodeLoader: Unable to load native-hadoop library for your platform... using builtin-java classes where applicable\n",
      "[Stage 1:>                                                          (0 + 5) / 5]\r"
     ]
    },
    {
     "name": "stdout",
     "output_type": "stream",
     "text": [
      "root\n",
      " |-- ID: integer (nullable = true)\n",
      " |-- Nationality: string (nullable = true)\n",
      " |-- Age: string (nullable = true)\n",
      " |-- DaysSinceCreation: integer (nullable = true)\n",
      " |-- NameHash: string (nullable = true)\n",
      " |-- DocIDHash: string (nullable = true)\n",
      " |-- AverageLeadTime: integer (nullable = true)\n",
      " |-- LodgingRevenue: double (nullable = true)\n",
      " |-- OtherRevenue: double (nullable = true)\n",
      " |-- BookingsCanceled: integer (nullable = true)\n",
      " |-- BookingsNoShowed: integer (nullable = true)\n",
      " |-- BookingsCheckedIn: integer (nullable = true)\n",
      " |-- PersonsNights: integer (nullable = true)\n",
      " |-- RoomNights: integer (nullable = true)\n",
      " |-- DaysSinceLastStay: integer (nullable = true)\n",
      " |-- DaysSinceFirstStay: integer (nullable = true)\n",
      " |-- DistributionChannel: string (nullable = true)\n",
      " |-- MarketSegment: string (nullable = true)\n",
      " |-- SRHighFloor: integer (nullable = true)\n",
      " |-- SRLowFloor: integer (nullable = true)\n",
      " |-- SRAccessibleRoom: integer (nullable = true)\n",
      " |-- SRMediumFloor: integer (nullable = true)\n",
      " |-- SRBathtub: integer (nullable = true)\n",
      " |-- SRShower: integer (nullable = true)\n",
      " |-- SRCrib: integer (nullable = true)\n",
      " |-- SRKingSizeBed: integer (nullable = true)\n",
      " |-- SRTwinBed: integer (nullable = true)\n",
      " |-- SRNearElevator: integer (nullable = true)\n",
      " |-- SRAwayFromElevator: integer (nullable = true)\n",
      " |-- SRNoAlcoholInMiniBar: integer (nullable = true)\n",
      " |-- SRQuietRoom: integer (nullable = true)\n",
      "\n"
     ]
    },
    {
     "name": "stderr",
     "output_type": "stream",
     "text": [
      "                                                                                \r"
     ]
    },
    {
     "name": "stderr",
     "output_type": "stream",
     "text": [
      "24/04/19 15:02:00 WARN GarbageCollectionMetrics: To enable non-built-in garbage collector(s) List(G1 Concurrent GC), users should configure it(them) to spark.eventLog.gcMetrics.youngGenerationGarbageCollectors or spark.eventLog.gcMetrics.oldGenerationGarbageCollectors\n"
     ]
    }
   ],
   "source": [
    "spark = SparkSession.builder.appName(\"My_app\").getOrCreate()\n",
    "sp_df = spark.read.csv('./HotelCustomersDataset.csv', header=True, inferSchema=True)\n",
    "\n",
    "sp_df.printSchema()"
   ]
  },
  {
   "cell_type": "code",
   "execution_count": 5,
   "metadata": {},
   "outputs": [
    {
     "name": "stderr",
     "output_type": "stream",
     "text": [
      "24/04/19 15:08:44 WARN SparkStringUtils: Truncated the string representation of a plan since it was too large. This behavior can be adjusted by setting 'spark.sql.debug.maxToStringFields'.\n"
     ]
    },
    {
     "name": "stdout",
     "output_type": "stream",
     "text": [
      "+---+-----------+----+-----------------+--------------------+--------------------+---------------+--------------+------------+----------------+----------------+-----------------+-------------+----------+-----------------+------------------+--------------------+--------------------+-----------+----------+----------------+-------------+---------+--------+------+-------------+---------+--------------+------------------+--------------------+-----------+\n",
      "| ID|Nationality| Age|DaysSinceCreation|            NameHash|           DocIDHash|AverageLeadTime|LodgingRevenue|OtherRevenue|BookingsCanceled|BookingsNoShowed|BookingsCheckedIn|PersonsNights|RoomNights|DaysSinceLastStay|DaysSinceFirstStay| DistributionChannel|       MarketSegment|SRHighFloor|SRLowFloor|SRAccessibleRoom|SRMediumFloor|SRBathtub|SRShower|SRCrib|SRKingSizeBed|SRTwinBed|SRNearElevator|SRAwayFromElevator|SRNoAlcoholInMiniBar|SRQuietRoom|\n",
      "+---+-----------+----+-----------------+--------------------+--------------------+---------------+--------------+------------+----------------+----------------+-----------------+-------------+----------+-----------------+------------------+--------------------+--------------------+-----------+----------+----------------+-------------+---------+--------+------+-------------+---------+--------------+------------------+--------------------+-----------+\n",
      "|  1|        PRT|  51|              150|0x8E0A7AF39B633D5...|0x71568459B729F7A...|             45|         371.0|       105.3|               1|               0|                3|            8|         5|              151|              1074|           Corporate|           Corporate|          0|         0|               0|            0|        0|       0|     0|            0|        0|             0|                 0|                   0|          0|\n",
      "|  2|        PRT|NULL|             1095|0x21EDE41906B4507...|0x5FA1E0098A31497...|             61|         280.0|        53.0|               0|               0|                1|           10|         5|             1100|              1100|Travel Agent/Oper...|Travel Agent/Oper...|          0|         0|               0|            0|        0|       0|     0|            0|        0|             0|                 0|                   0|          0|\n",
      "|  3|        DEU|  31|             1095|0x31C5E4B74E23231...|0xC7CF344F5B03295...|              0|           0.0|         0.0|               0|               0|                0|            0|         0|               -1|                -1|Travel Agent/Oper...|Travel Agent/Oper...|          0|         0|               0|            0|        0|       0|     0|            0|        0|             0|                 0|                   0|          0|\n",
      "|  4|        FRA|  60|             1095|0xFF534C83C0EF23D...|0xBD3823A9B4EC35D...|             93|         240.0|        60.0|               0|               0|                1|           10|         5|             1100|              1100|Travel Agent/Oper...|Travel Agent/Oper...|          0|         0|               0|            0|        0|       0|     0|            0|        0|             0|                 0|                   0|          0|\n",
      "|  5|        FRA|  51|             1095|0x9C1DEF02C9BE242...|0xE175754CF77247B...|              0|           0.0|         0.0|               0|               0|                0|            0|         0|               -1|                -1|Travel Agent/Oper...|Travel Agent/Oper...|          0|         0|               0|            0|        0|       0|     0|            0|        0|             0|                 0|                   0|          0|\n",
      "|  6|        JPN|  54|             1095|0x6E70C1504EB2725...|0xE82EC1D6938A04C...|             58|         230.0|        24.0|               0|               0|                1|            4|         2|             1097|              1097|Travel Agent/Oper...|               Other|          0|         0|               0|            0|        0|       0|     0|            0|        0|             0|                 0|                   0|          0|\n",
      "|  7|        JPN|  49|             1095|0x1DD6DA89DEECA18...|0xAB9CEF189D944E0...|              0|           0.0|         0.0|               0|               0|                0|            0|         0|               -1|                -1|Travel Agent/Oper...|               Other|          0|         0|               0|            0|        0|       0|     0|            0|        0|             0|                 0|                   0|          0|\n",
      "|  8|        FRA|  32|             1095|0x5A3A2D6A659769F...|0xB27F5644C88A714...|             38|         535.0|        94.0|               0|               0|                1|           10|         5|             1100|              1100|Travel Agent/Oper...|               Other|          0|         0|               0|            0|        0|       0|     0|            1|        0|             0|                 0|                   0|          0|\n",
      "|  9|        FRA|  42|             1095|0xD9D899DA4FB0CF2...|0xCCDDA9F399058BA...|              0|           0.0|         0.0|               0|               0|                0|            0|         0|               -1|                -1|Travel Agent/Oper...|               Other|          0|         0|               0|            0|        0|       0|     0|            1|        0|             0|                 0|                   0|          0|\n",
      "| 10|        IRL|  25|             1095|0x801B08C30D1A38E...|0x0659443C9197CB0...|             96|         174.0|        69.0|               0|               0|                1|            6|         3|             1098|              1098|Travel Agent/Oper...|Travel Agent/Oper...|          0|         0|               0|            0|        0|       0|     0|            0|        0|             0|                 0|                   0|          0|\n",
      "+---+-----------+----+-----------------+--------------------+--------------------+---------------+--------------+------------+----------------+----------------+-----------------+-------------+----------+-----------------+------------------+--------------------+--------------------+-----------+----------+----------------+-------------+---------+--------+------+-------------+---------+--------------+------------------+--------------------+-----------+\n",
      "only showing top 10 rows\n",
      "\n"
     ]
    }
   ],
   "source": [
    "sp_df.show(10)"
   ]
  },
  {
   "cell_type": "markdown",
   "metadata": {},
   "source": [
    "## Exploratory Data Analysis"
   ]
  },
  {
   "cell_type": "markdown",
   "metadata": {},
   "source": [
    "### Check for missing values"
   ]
  },
  {
   "cell_type": "code",
   "execution_count": 20,
   "metadata": {},
   "outputs": [
    {
     "name": "stderr",
     "output_type": "stream",
     "text": [
      "[Stage 24:=======================>                                  (2 + 3) / 5]\r"
     ]
    },
    {
     "name": "stdout",
     "output_type": "stream",
     "text": [
      "+---+-----------+---+-----------------+--------+---------+---------------+--------------+------------+----------------+----------------+-----------------+-------------+----------+-----------------+------------------+-------------------+-------------+-----------+----------+----------------+-------------+---------+--------+------+-------------+---------+--------------+------------------+--------------------+-----------+\n",
      "| ID|Nationality|Age|DaysSinceCreation|NameHash|DocIDHash|AverageLeadTime|LodgingRevenue|OtherRevenue|BookingsCanceled|BookingsNoShowed|BookingsCheckedIn|PersonsNights|RoomNights|DaysSinceLastStay|DaysSinceFirstStay|DistributionChannel|MarketSegment|SRHighFloor|SRLowFloor|SRAccessibleRoom|SRMediumFloor|SRBathtub|SRShower|SRCrib|SRKingSizeBed|SRTwinBed|SRNearElevator|SRAwayFromElevator|SRNoAlcoholInMiniBar|SRQuietRoom|\n",
      "+---+-----------+---+-----------------+--------+---------+---------------+--------------+------------+----------------+----------------+-----------------+-------------+----------+-----------------+------------------+-------------------+-------------+-----------+----------+----------------+-------------+---------+--------+------+-------------+---------+--------------+------------------+--------------------+-----------+\n",
      "|  0|          0|  0|                0|       0|        0|              0|             0|           0|               0|               0|                0|            0|         0|                0|                 0|                  0|            0|          0|         0|               0|            0|        0|       0|     0|            0|        0|             0|                 0|                   0|          0|\n",
      "+---+-----------+---+-----------------+--------+---------+---------------+--------------+------------+----------------+----------------+-----------------+-------------+----------+-----------------+------------------+-------------------+-------------+-----------+----------+----------------+-------------+---------+--------+------+-------------+---------+--------------+------------------+--------------------+-----------+\n",
      "\n"
     ]
    },
    {
     "name": "stderr",
     "output_type": "stream",
     "text": [
      "                                                                                \r"
     ]
    }
   ],
   "source": [
    "missing_counts = sp_df.select([count(when(col(c).isNull(), c)).alias(c) for c in sp_df.columns])\n",
    "missing_counts.show()"
   ]
  },
  {
   "cell_type": "markdown",
   "metadata": {},
   "source": [
    "### Describe statistics of the dataframe"
   ]
  },
  {
   "cell_type": "code",
   "execution_count": 6,
   "metadata": {},
   "outputs": [
    {
     "name": "stderr",
     "output_type": "stream",
     "text": [
      "[Stage 3:===========>                                               (1 + 4) / 5]\r"
     ]
    },
    {
     "name": "stdout",
     "output_type": "stream",
     "text": [
      "+-------+------------------+-----------+------------------+------------------+--------------------+--------------------+-----------------+-----------------+------------------+--------------------+--------------------+------------------+-----------------+------------------+-----------------+------------------+--------------------+--------------------+-------------------+--------------------+--------------------+--------------------+--------------------+--------------------+--------------------+-------------------+-------------------+--------------------+--------------------+--------------------+-------------------+\n",
      "|summary|                ID|Nationality|               Age| DaysSinceCreation|            NameHash|           DocIDHash|  AverageLeadTime|   LodgingRevenue|      OtherRevenue|    BookingsCanceled|    BookingsNoShowed| BookingsCheckedIn|    PersonsNights|        RoomNights|DaysSinceLastStay|DaysSinceFirstStay| DistributionChannel|       MarketSegment|        SRHighFloor|          SRLowFloor|    SRAccessibleRoom|       SRMediumFloor|           SRBathtub|            SRShower|              SRCrib|      SRKingSizeBed|          SRTwinBed|      SRNearElevator|  SRAwayFromElevator|SRNoAlcoholInMiniBar|        SRQuietRoom|\n",
      "+-------+------------------+-----------+------------------+------------------+--------------------+--------------------+-----------------+-----------------+------------------+--------------------+--------------------+------------------+-----------------+------------------+-----------------+------------------+--------------------+--------------------+-------------------+--------------------+--------------------+--------------------+--------------------+--------------------+--------------------+-------------------+-------------------+--------------------+--------------------+--------------------+-------------------+\n",
      "|  count|             83590|      83590|             83590|             83590|               83590|               83590|            83590|            83590|             83590|               83590|               83590|             83590|            83590|             83590|            83590|             83590|               83590|               83590|              83590|               83590|               83590|               83590|               83590|               83590|               83590|              83590|              83590|               83590|               83590|               83590|              83590|\n",
      "|   mean|           41795.5|       NULL| 45.39802784077383|453.64090202177294|                NULL|                NULL|66.19602823304223|298.8020870917562| 67.58913183395144|0.002021772939346812|6.340471348247398E-4|0.7946165809307334|4.649132671372174|2.3585357100131596|401.0671372173705| 403.3490130398373|                NULL|                NULL|0.04748175619093193|0.001411652111496...|2.512262232324441E-4|8.733102045699247E-4|0.002847230529967...|0.001710730948678...|0.013219284603421462| 0.3526857279578897|0.14254097380069386|3.349682976432588E-4|0.003505203971766958|1.196315348725924...|0.08837181481038402|\n",
      "| stddev|24130.498837916024|       NULL|16.572368227500345| 313.3902913159877|                NULL|                NULL|87.75898963782517|372.8518921560122|114.32777582257373| 0.06676991852117035|0.029545196422774325|  0.69577761592565| 4.56767285521697| 2.281745624576624|347.2049554202725| 347.9710893535145|                NULL|                NULL| 0.2126682394877804| 0.03754565506134648|0.015848221141691876| 0.02953909227450071| 0.05328374774316402| 0.04132583670380158| 0.11421335812258525|0.47780878649877984|0.34960621673416836|0.018299183038201577| 0.05910126313110017| 0.01093703132411973|  0.283836574365323|\n",
      "|    min|                 1|        ABW|                -1|                 0|0x000074AF7327973...|0x0000108140F2C50...|               -1|              0.0|               0.0|                   0|                   0|                 0|                0|                 0|               -1|                -1|           Corporate|            Aviation|                  0|                   0|                   0|                   0|                   0|                   0|                   0|                  0|                  0|                   0|                   0|                   0|                  0|\n",
      "|    max|             83590|        ZWE|              NULL|              1095|0xFFFFB9F5B72E382...|0xFFFFB65F0903B46...|              588|          21781.0|           7730.25|                   9|                   3|                66|              116|               185|             1104|              1186|Travel Agent/Oper...|Travel Agent/Oper...|                  1|                   1|                   1|                   1|                   1|                   1|                   1|                  1|                  1|                   1|                   1|                   1|                  1|\n",
      "+-------+------------------+-----------+------------------+------------------+--------------------+--------------------+-----------------+-----------------+------------------+--------------------+--------------------+------------------+-----------------+------------------+-----------------+------------------+--------------------+--------------------+-------------------+--------------------+--------------------+--------------------+--------------------+--------------------+--------------------+-------------------+-------------------+--------------------+--------------------+--------------------+-------------------+\n",
      "\n"
     ]
    },
    {
     "name": "stderr",
     "output_type": "stream",
     "text": [
      "                                                                                \r"
     ]
    }
   ],
   "source": [
    "sp_df.describe().show()"
   ]
  },
  {
   "cell_type": "markdown",
   "metadata": {},
   "source": [
    "### Get no. of unique values in each column"
   ]
  },
  {
   "cell_type": "code",
   "execution_count": 13,
   "metadata": {},
   "outputs": [
    {
     "name": "stderr",
     "output_type": "stream",
     "text": [
      "[Stage 18:===========>                                              (1 + 4) / 5]\r"
     ]
    },
    {
     "name": "stdout",
     "output_type": "stream",
     "text": [
      "+-----+-----------+---+-----------------+--------+---------+---------------+--------------+------------+----------------+----------------+-----------------+-------------+----------+-----------------+------------------+-------------------+-------------+-----------+----------+----------------+-------------+---------+--------+------+-------------+---------+--------------+------------------+--------------------+-----------+\n",
      "|   ID|Nationality|Age|DaysSinceCreation|NameHash|DocIDHash|AverageLeadTime|LodgingRevenue|OtherRevenue|BookingsCanceled|BookingsNoShowed|BookingsCheckedIn|PersonsNights|RoomNights|DaysSinceLastStay|DaysSinceFirstStay|DistributionChannel|MarketSegment|SRHighFloor|SRLowFloor|SRAccessibleRoom|SRMediumFloor|SRBathtub|SRShower|SRCrib|SRKingSizeBed|SRTwinBed|SRNearElevator|SRAwayFromElevator|SRNoAlcoholInMiniBar|SRQuietRoom|\n",
      "+-----+-----------+---+-----------------+--------+---------+---------------+--------------+------------+----------------+----------------+-----------------+-------------+----------+-----------------+------------------+-------------------+-------------+-----------+----------+----------------+-------------+---------+--------+------+-------------+---------+--------------+------------------+--------------------+-----------+\n",
      "|83590|        188|106|             1095|   80642|    76993|            418|         10257|        4490|               6|               4|               29|           56|        48|             1105|              1108|                  4|            7|          2|         2|               2|            2|        2|       2|     2|            2|        2|             2|                 2|                   2|          2|\n",
      "+-----+-----------+---+-----------------+--------+---------+---------------+--------------+------------+----------------+----------------+-----------------+-------------+----------+-----------------+------------------+-------------------+-------------+-----------+----------+----------------+-------------+---------+--------+------+-------------+---------+--------------+------------------+--------------------+-----------+\n",
      "\n"
     ]
    },
    {
     "name": "stderr",
     "output_type": "stream",
     "text": [
      "                                                                                \r"
     ]
    }
   ],
   "source": [
    "unique_counts = sp_df.agg(*(countDistinct(col(c)).alias(c) for c in sp_df.columns))\n",
    "unique_counts.show()"
   ]
  },
  {
   "cell_type": "markdown",
   "metadata": {},
   "source": [
    "### Data Distribution"
   ]
  },
  {
   "cell_type": "markdown",
   "metadata": {},
   "source": [
    "Make two lists with numerical & categorical columns"
   ]
  },
  {
   "cell_type": "code",
   "execution_count": null,
   "metadata": {},
   "outputs": [],
   "source": [
    "# numerical_columns = [.....]\n",
    "# categorical_columns = [.....]"
   ]
  },
  {
   "cell_type": "markdown",
   "metadata": {},
   "source": [
    "Visualize the distribution of numerical variables such as Age, AverageLeadTime, LodgingRevenue, and OtherRevenue using histograms or kernel density plots.\n",
    "\n",
    "Explore the distribution of categorical variables like DistributionChannel, and MarketSegment using bar plots to understand the frequency of different categories."
   ]
  },
  {
   "cell_type": "code",
   "execution_count": null,
   "metadata": {},
   "outputs": [],
   "source": [
    "# Plot 1"
   ]
  },
  {
   "cell_type": "code",
   "execution_count": null,
   "metadata": {},
   "outputs": [],
   "source": [
    "# Plot 2"
   ]
  },
  {
   "cell_type": "markdown",
   "metadata": {},
   "source": [
    "Investigate the distribution of booking-related variables (BookingsCanceled, BookingsNoShowed, BookingsCheckedIn) to understand how often customers cancel bookings or fail to show up."
   ]
  },
  {
   "cell_type": "code",
   "execution_count": null,
   "metadata": {},
   "outputs": [],
   "source": [
    "# Plot - 3"
   ]
  },
  {
   "cell_type": "code",
   "execution_count": null,
   "metadata": {},
   "outputs": [],
   "source": [
    "# Plot - 4"
   ]
  },
  {
   "cell_type": "markdown",
   "metadata": {},
   "source": [
    "Visualize the distribution of PersonsNights and RoomNights to understand the typical length of stay and occupancy patterns"
   ]
  },
  {
   "cell_type": "code",
   "execution_count": null,
   "metadata": {},
   "outputs": [],
   "source": [
    "# Plot - 5"
   ]
  },
  {
   "cell_type": "code",
   "execution_count": null,
   "metadata": {},
   "outputs": [],
   "source": [
    "# Plot - 6"
   ]
  },
  {
   "cell_type": "markdown",
   "metadata": {},
   "source": [
    "Explore the distribution of variables across different market segments and distribution channels to understand how customer preferences vary."
   ]
  },
  {
   "cell_type": "code",
   "execution_count": null,
   "metadata": {},
   "outputs": [],
   "source": []
  },
  {
   "cell_type": "markdown",
   "metadata": {},
   "source": [
    "### Distribution of Nationalities (plotly heatmap in world map)"
   ]
  },
  {
   "cell_type": "code",
   "execution_count": null,
   "metadata": {},
   "outputs": [],
   "source": []
  },
  {
   "cell_type": "markdown",
   "metadata": {},
   "source": [
    "Which country has the most bookings?"
   ]
  },
  {
   "cell_type": "code",
   "execution_count": null,
   "metadata": {},
   "outputs": [],
   "source": []
  },
  {
   "cell_type": "markdown",
   "metadata": {},
   "source": [
    "Outlier Detection:  \n",
    "Identify and investigate outliers in numerical variables using box plots or scatter plots. Consider whether these outliers are valid data points or errors that need to be addressed.  \n",
    "Check for unusual patterns in categorical variables that may indicate data quality issues or anomalies."
   ]
  },
  {
   "cell_type": "code",
   "execution_count": null,
   "metadata": {},
   "outputs": [],
   "source": []
  },
  {
   "cell_type": "markdown",
   "metadata": {},
   "source": [
    "### Encoding & Correlation plot"
   ]
  },
  {
   "cell_type": "markdown",
   "metadata": {},
   "source": [
    " Before calling oneHotEncoder It's important to reduce the dimensionality of the dataset, and Nationality column has about 187 different unique values, we can drop the countries which occured less than 30 times in the data, and just consider these cases as unregular."
   ]
  },
  {
   "cell_type": "code",
   "execution_count": null,
   "metadata": {},
   "outputs": [],
   "source": [
    "# remove countries that occur less than 30 times\n",
    "\n",
    "# cols to be encoded -> ['Nationality', 'MarketSegment', 'DistributionChannel']"
   ]
  },
  {
   "cell_type": "markdown",
   "metadata": {},
   "source": [
    "## Data Preprocessing"
   ]
  },
  {
   "cell_type": "markdown",
   "metadata": {},
   "source": [
    "### Get count of null values in each column"
   ]
  },
  {
   "cell_type": "code",
   "execution_count": null,
   "metadata": {},
   "outputs": [],
   "source": []
  },
  {
   "cell_type": "markdown",
   "metadata": {},
   "source": [
    "### Remove Unimportant Columns"
   ]
  },
  {
   "cell_type": "code",
   "execution_count": null,
   "metadata": {},
   "outputs": [],
   "source": [
    "# Remove Columns -> ['DocIDHash', 'NameHash', 'ID']"
   ]
  },
  {
   "cell_type": "markdown",
   "metadata": {},
   "source": [
    "## Segmentation using MLlib"
   ]
  },
  {
   "cell_type": "markdown",
   "metadata": {},
   "source": [
    "Ref: https://spark.apache.org/docs/latest/ml-clustering.html"
   ]
  },
  {
   "cell_type": "markdown",
   "metadata": {},
   "source": [
    "### KMeans Algorithm"
   ]
  },
  {
   "cell_type": "code",
   "execution_count": null,
   "metadata": {},
   "outputs": [],
   "source": []
  },
  {
   "cell_type": "markdown",
   "metadata": {},
   "source": [
    "### Gaussian Mixture Model"
   ]
  },
  {
   "cell_type": "code",
   "execution_count": null,
   "metadata": {},
   "outputs": [],
   "source": []
  }
 ],
 "metadata": {
  "kernelspec": {
   "display_name": "Lungsegment",
   "language": "python",
   "name": "python3"
  },
  "language_info": {
   "codemirror_mode": {
    "name": "ipython",
    "version": 3
   },
   "file_extension": ".py",
   "mimetype": "text/x-python",
   "name": "python",
   "nbconvert_exporter": "python",
   "pygments_lexer": "ipython3",
   "version": "3.9.4"
  }
 },
 "nbformat": 4,
 "nbformat_minor": 2
}
